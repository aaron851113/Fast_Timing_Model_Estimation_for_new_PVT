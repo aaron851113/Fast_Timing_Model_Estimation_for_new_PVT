{
 "cells": [
  {
   "cell_type": "code",
   "execution_count": 53,
   "metadata": {},
   "outputs": [],
   "source": [
    "import pandas as pd"
   ]
  },
  {
   "cell_type": "code",
   "execution_count": 54,
   "metadata": {},
   "outputs": [
    {
     "name": "stdout",
     "output_type": "stream",
     "text": [
      "   temperature  voltage  capacitance  rise_capacitance  fall_capacitance  \\\n",
      "0        -40.0      1.1     0.001051          0.001045          0.001051   \n",
      "1        -40.0      1.1     0.001051          0.001045          0.001051   \n",
      "2        -40.0      1.1     0.001051          0.001045          0.001051   \n",
      "3        -40.0      1.1     0.001051          0.001045          0.001051   \n",
      "4        -40.0      1.1     0.001353          0.001353          0.001342   \n",
      "\n",
      "   cell_rise  rise_transition  cell_fall  fall_transition  rise_power  ...  \\\n",
      "0          1                0          0                0           0  ...   \n",
      "1          0                1          0                0           0  ...   \n",
      "2          0                0          1                0           0  ...   \n",
      "3          0                0          0                1           0  ...   \n",
      "4          1                0          0                0           0  ...   \n",
      "\n",
      "   value_40  value_41  value_42  value_43  value_44  value_45  value_46  \\\n",
      "0  0.161483  0.185096  0.215382  0.122855  0.127341  0.140163  0.158053   \n",
      "1  0.088744  0.125388  0.178496  0.048690  0.051157  0.060717  0.075620   \n",
      "2  0.177652  0.194598  0.214725  0.164696  0.168543  0.179348  0.194051   \n",
      "3  0.068639  0.088481  0.117891  0.048108  0.049823  0.055835  0.065679   \n",
      "4  0.157339  0.181506  0.211927  0.120310  0.124645  0.136876  0.153975   \n",
      "\n",
      "   value_47  value_48  value_49  \n",
      "0  0.178827  0.203334  0.233418  \n",
      "1  0.096483  0.130232  0.181047  \n",
      "2  0.210485  0.228755  0.249576  \n",
      "3  0.078729  0.096975  0.124153  \n",
      "4  0.174357  0.199062  0.229687  \n",
      "\n",
      "[5 rows x 74 columns]\n",
      "df.shape : (94290, 74)\n"
     ]
    }
   ],
   "source": [
    "df = pd.read_csv('./train_total.csv')\n",
    "print(df.head())\n",
    "print('df.shape :',df.shape)"
   ]
  },
  {
   "cell_type": "code",
   "execution_count": 55,
   "metadata": {},
   "outputs": [],
   "source": [
    "import numpy as np \n",
    "from sklearn.ensemble import RandomForestClassifier\n",
    "from sklearn.model_selection import train_test_split\n",
    "from sklearn import preprocessing\n",
    "import matplotlib.pyplot as plt"
   ]
  },
  {
   "cell_type": "code",
   "execution_count": 56,
   "metadata": {},
   "outputs": [],
   "source": [
    "train , test = train_test_split(df,test_size=0.2)"
   ]
  },
  {
   "cell_type": "code",
   "execution_count": 57,
   "metadata": {},
   "outputs": [
    {
     "name": "stdout",
     "output_type": "stream",
     "text": [
      "train.shape : (75432, 74)\n",
      "test.shape : (18858, 74)\n"
     ]
    }
   ],
   "source": [
    "print('train.shape :',train.shape)\n",
    "print('test.shape :',test.shape)"
   ]
  },
  {
   "cell_type": "code",
   "execution_count": 58,
   "metadata": {},
   "outputs": [],
   "source": [
    "value_columns = []\n",
    "for i in range(1,50):\n",
    "    string = 'value_'+str(i)\n",
    "    value_columns.append(string)   \n",
    "\n",
    "train_y = train[value_columns]\n",
    "test_y = test[value_columns]\n",
    "\n",
    "for col in value_columns:\n",
    "    train.pop(col)\n",
    "    test.pop(col)\n",
    "    \n",
    "train_x = train\n",
    "test_x = test"
   ]
  },
  {
   "cell_type": "code",
   "execution_count": 59,
   "metadata": {},
   "outputs": [],
   "source": [
    "#dataframe -> numpy.array.value\n",
    "train_x = train_x.values\n",
    "train_y = train_y.values\n",
    "    \n",
    "test_x = test_x.values\n",
    "test_y = test_y.values"
   ]
  },
  {
   "cell_type": "code",
   "execution_count": 60,
   "metadata": {},
   "outputs": [
    {
     "name": "stdout",
     "output_type": "stream",
     "text": [
      "(18858, 49)\n"
     ]
    }
   ],
   "source": [
    "from sklearn.linear_model import LinearRegression\n",
    "model = LinearRegression(fit_intercept=True)\n",
    "model.fit(train_x, train_y)\n",
    "\n",
    "predict_test = model.predict(test_x)\n",
    "print(predict_test.shape)"
   ]
  },
  {
   "cell_type": "code",
   "execution_count": 61,
   "metadata": {},
   "outputs": [
    {
     "name": "stdout",
     "output_type": "stream",
     "text": [
      "[[ 0.27084149  0.27591424  0.29171629 ...  0.63381867  0.69067454\n",
      "   0.76238932]\n",
      " [-0.05311756 -0.05512099 -0.06154841 ... -0.12513372 -0.14946033\n",
      "  -0.18142029]\n",
      " [ 0.07349783  0.0747063   0.07909238 ...  0.14160092  0.16040505\n",
      "   0.18473085]\n",
      " ...\n",
      " [ 0.13350191  0.13499649  0.13951179 ...  0.3502803   0.36795929\n",
      "   0.38959893]\n",
      " [ 0.02482148  0.025891    0.03007433 ...  0.05299436  0.07214007\n",
      "   0.09752412]\n",
      " [ 0.28737436  0.2930828   0.31156342 ...  0.69734839  0.77112098\n",
      "   0.86541667]]\n"
     ]
    }
   ],
   "source": [
    "print(predict_test)"
   ]
  },
  {
   "cell_type": "code",
   "execution_count": 62,
   "metadata": {},
   "outputs": [
    {
     "name": "stdout",
     "output_type": "stream",
     "text": [
      "[[0.791965   0.798229   0.818893   ... 1.22164    1.28194    1.35309   ]\n",
      " [0.00222981 0.00223036 0.00223329 ... 0.00218569 0.00219166 0.00219611]\n",
      " [0.00177794 0.00177943 0.0017792  ... 0.00166375 0.0016722  0.00168217]\n",
      " ...\n",
      " [0.0836706  0.0840567  0.0854099  ... 0.2544     0.262584   0.273096  ]\n",
      " [0.0975739  0.0978517  0.098814   ... 0.225797   0.228991   0.233556  ]\n",
      " [0.594445   0.599671   0.618019   ... 1.19315    1.2736     1.37814   ]]\n"
     ]
    }
   ],
   "source": [
    "print(test_y)"
   ]
  },
  {
   "cell_type": "code",
   "execution_count": null,
   "metadata": {},
   "outputs": [],
   "source": []
  }
 ],
 "metadata": {
  "kernelspec": {
   "display_name": "Python 3",
   "language": "python",
   "name": "python3"
  },
  "language_info": {
   "codemirror_mode": {
    "name": "ipython",
    "version": 3
   },
   "file_extension": ".py",
   "mimetype": "text/x-python",
   "name": "python",
   "nbconvert_exporter": "python",
   "pygments_lexer": "ipython3",
   "version": "3.6.7"
  }
 },
 "nbformat": 4,
 "nbformat_minor": 4
}
