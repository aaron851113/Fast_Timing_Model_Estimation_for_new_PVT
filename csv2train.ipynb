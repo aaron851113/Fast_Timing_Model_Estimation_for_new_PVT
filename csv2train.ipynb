{
 "cells": [
  {
   "cell_type": "code",
   "execution_count": 1,
   "metadata": {},
   "outputs": [],
   "source": [
    "import pandas as pd\n",
    "import glob \n",
    "\n",
    "COLUMN_NAMES = ['temperature', 'voltage', 'capacitance', 'rise_capacitance', 'fall_capacitance', \n",
    "                'cell_rise', 'rise_transition', 'cell_fall', 'fall_transition', 'rise_power', 'fall_power',\n",
    "                'index1_1', 'index1_2', 'index1_3', 'index1_4', 'index1_5', 'index1_6', 'index1_7',\n",
    "                'index2_1', 'index2_2', 'index2_3', 'index2_4', 'index2_5', 'index2_6', 'index2_7']\n",
    "\n",
    "for i in range(1,50):\n",
    "    string = 'value_'+str(i)\n",
    "    COLUMN_NAMES.append(string)   "
   ]
  },
  {
   "cell_type": "code",
   "execution_count": 2,
   "metadata": {},
   "outputs": [],
   "source": [
    "df = pd.DataFrame()\n",
    "for train_csv in glob.glob('train_data/*.csv'):\n",
    "    tmp_df = pd.read_csv(train_csv)\n",
    "    df = pd.concat([df,tmp_df],axis=0, ignore_index=True)\n"
   ]
  },
  {
   "cell_type": "code",
   "execution_count": 7,
   "metadata": {},
   "outputs": [
    {
     "name": "stdout",
     "output_type": "stream",
     "text": [
      "   temperature  voltage  capacitance  rise_capacitance  fall_capacitance  \\\n",
      "0        -40.0      1.1     0.001051          0.001045          0.001051   \n",
      "1        -40.0      1.1     0.001051          0.001045          0.001051   \n",
      "2        -40.0      1.1     0.001051          0.001045          0.001051   \n",
      "3        -40.0      1.1     0.001051          0.001045          0.001051   \n",
      "4        -40.0      1.1     0.001353          0.001353          0.001342   \n",
      "\n",
      "   cell_rise  rise_transition  cell_fall  fall_transition  rise_power  ...  \\\n",
      "0          1                0          0                0           0  ...   \n",
      "1          0                1          0                0           0  ...   \n",
      "2          0                0          1                0           0  ...   \n",
      "3          0                0          0                1           0  ...   \n",
      "4          1                0          0                0           0  ...   \n",
      "\n",
      "   value_40  value_41  value_42  value_43  value_44  value_45  value_46  \\\n",
      "0  0.161483  0.185096  0.215382  0.122855  0.127341  0.140163  0.158053   \n",
      "1  0.088744  0.125388  0.178496  0.048690  0.051157  0.060717  0.075620   \n",
      "2  0.177652  0.194598  0.214725  0.164696  0.168543  0.179348  0.194051   \n",
      "3  0.068639  0.088481  0.117891  0.048108  0.049823  0.055835  0.065679   \n",
      "4  0.157339  0.181506  0.211927  0.120310  0.124645  0.136876  0.153975   \n",
      "\n",
      "   value_47  value_48  value_49  \n",
      "0  0.178827  0.203334  0.233418  \n",
      "1  0.096483  0.130232  0.181047  \n",
      "2  0.210485  0.228755  0.249576  \n",
      "3  0.078729  0.096975  0.124153  \n",
      "4  0.174357  0.199062  0.229687  \n",
      "\n",
      "[5 rows x 74 columns]\n",
      "df.shape : (94290, 74)\n"
     ]
    }
   ],
   "source": [
    "print(df.head())\n",
    "print('df.shape :',df.shape)\n",
    "#df.to_csv('train_total.csv',index=0)"
   ]
  },
  {
   "cell_type": "code",
   "execution_count": null,
   "metadata": {},
   "outputs": [],
   "source": []
  },
  {
   "cell_type": "code",
   "execution_count": null,
   "metadata": {},
   "outputs": [],
   "source": []
  }
 ],
 "metadata": {
  "kernelspec": {
   "display_name": "Python 3",
   "language": "python",
   "name": "python3"
  },
  "language_info": {
   "codemirror_mode": {
    "name": "ipython",
    "version": 3
   },
   "file_extension": ".py",
   "mimetype": "text/x-python",
   "name": "python",
   "nbconvert_exporter": "python",
   "pygments_lexer": "ipython3",
   "version": "3.6.7"
  }
 },
 "nbformat": 4,
 "nbformat_minor": 4
}
